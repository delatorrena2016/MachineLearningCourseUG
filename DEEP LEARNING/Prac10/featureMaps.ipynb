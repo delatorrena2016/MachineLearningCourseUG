{
 "cells": [
  {
   "cell_type": "code",
   "execution_count": 1,
   "metadata": {},
   "outputs": [
    {
     "name": "stderr",
     "output_type": "stream",
     "text": [
      "c:\\Users\\delat\\miniconda3\\envs\\MLenv\\lib\\site-packages\\scipy\\__init__.py:146: UserWarning: A NumPy version >=1.16.5 and <1.23.0 is required for this version of SciPy (detected version 1.23.3\n",
      "  warnings.warn(f\"A NumPy version >={np_minversion} and <{np_maxversion}\"\n"
     ]
    }
   ],
   "source": [
    "# -*- coding: utf-8 -*-\n",
    "\"\"\"\n",
    "Created on Tue May 31 21:00:54 2022\n",
    "\n",
    "@author: TUF-PC8\n",
    "\"\"\"\n",
    "# https://machinelearningmastery.com/how-to-visualize-filters-and-feature-maps-in-convolutional-neural-networks/\n",
    "\n",
    "# plot feature map of first conv layer for given image\n",
    "from keras.applications.vgg16 import VGG16\n",
    "from keras.applications.vgg16 import preprocess_input\n",
    "from keras.models import Model\n",
    "from matplotlib import pyplot\n",
    "from numpy import expand_dims\n",
    "from matplotlib.backends.backend_pdf import PdfPages\n",
    "import datetime\n",
    "\n",
    "#from keras.preprocessing.image import load_img\n",
    "#from keras.preprocessing.image import img_to_array\n",
    "\n",
    "from tensorflow.keras.utils import load_img \n",
    "from tensorflow.keras.utils import img_to_array"
   ]
  },
  {
   "cell_type": "code",
   "execution_count": 2,
   "metadata": {},
   "outputs": [
    {
     "name": "stdout",
     "output_type": "stream",
     "text": [
      "Model: \"model\"\n",
      "_________________________________________________________________\n",
      " Layer (type)                Output Shape              Param #   \n",
      "=================================================================\n",
      " input_1 (InputLayer)        [(None, 224, 224, 3)]     0         \n",
      "                                                                 \n",
      " block1_conv1 (Conv2D)       (None, 224, 224, 64)      1792      \n",
      "                                                                 \n",
      "=================================================================\n",
      "Total params: 1,792\n",
      "Trainable params: 1,792\n",
      "Non-trainable params: 0\n",
      "_________________________________________________________________\n",
      "(1, 224, 224, 3)\n",
      "(1, 224, 224, 3)\n",
      "1/1 [==============================] - 0s 373ms/step\n",
      "1/1 [==============================] - 0s 38ms/step\n"
     ]
    }
   ],
   "source": [
    "# load the model\n",
    "model = VGG16()\n",
    "\n",
    "# redefine model to output right after the first hidden layer\n",
    "model = Model(inputs=model.inputs, outputs=model.layers[1].output)\n",
    "model.summary()\n",
    "\n",
    "# load the image with the required shape\n",
    "path = 'bird.jpg'\n",
    "img = load_img(path, target_size=(224, 224))\n",
    "\n",
    "path2 = 'DyingStar.jpg'\n",
    "img2 = load_img(path2, target_size=(224, 224))\n",
    "\n",
    "# convert the image to an array\n",
    "img = img_to_array(img)\n",
    "img2 = img_to_array(img2)\n",
    "\n",
    "# expand dimensions so that it represents a single 'sample'\n",
    "img = expand_dims(img, axis=0)\n",
    "print(img.shape)\n",
    "img2 = expand_dims(img2, axis=0)\n",
    "print(img2.shape)\n",
    "\n",
    "## prepare the image (e.g. scale pixel values for the vgg)\n",
    "img = preprocess_input(img)\n",
    "img2 = preprocess_input(img2)\n",
    "\n",
    "# get feature map for first hidden layer\n",
    "feature_maps = model.predict(img)\n",
    "feature_maps2 = model.predict(img2)\n",
    "# plot all 64 maps in an 8x8 squares\n",
    "square = 8\n",
    "ix = 1\n",
    "\n",
    "with PdfPages('multipage_pdf.pdf') as pdf:\t\n",
    "\tfor i in range(square):\n",
    "\t\tfor j in range(square):\n",
    "\t\t\t# specify subplot and turn of axis\n",
    "\t\t\tfig = pyplot.figure(figsize=(8, 6))\n",
    "\t\t\t# plot filter channel in grayscale\n",
    "\t\t\tpyplot.imshow(feature_maps[0, :, :, ix-1], cmap='gray')\n",
    "\t\t\tpyplot.title(str(i)+'x'+str(j)+''+path, fontsize=18)\n",
    "\t\t\tpdf.savefig(fig)\n",
    "\t\t\tpyplot.close()\n",
    "\t\t\tix += 1\n",
    "\t\n",
    "\tix = 1\n",
    "\tpdf.savefig(pyplot.figure(figsize=(8, 6)))\n",
    "\tpyplot.close()\n",
    "\n",
    "\tfor i in range(square):\n",
    "\t\tfor j in range(square):\n",
    "\t\t\t# specify subplot and turn of axis\n",
    "\t\t\tfig = pyplot.figure(figsize=(8, 6))\n",
    "\t\t\t# plot filter channel in grayscale\n",
    "\t\t\tpyplot.imshow(feature_maps2[0, :, :, ix-1], cmap='gray')\n",
    "\t\t\tpyplot.title(str(i)+'x'+str(j)+''+path2, fontsize=18)\n",
    "\t\t\tpdf.savefig(fig)\n",
    "\t\t\tpyplot.close()\n",
    "\t\t\tix += 1\n",
    "\t# We can also set the file's metadata via the PdfPages object:\n",
    "\td = pdf.infodict()\n",
    "\td['Title'] = 'Multipage PDF Example'\n",
    "\td['Author'] = 'Jouni K. Sepp\\xe4nen'\n",
    "\td['Subject'] = 'How to create a multipage pdf file and set its metadata'\n",
    "\td['Keywords'] = 'PdfPages multipage keywords author title subject'\n",
    "\td['CreationDate'] = datetime.datetime(2009, 11, 13)\n",
    "\td['ModDate'] = datetime.datetime.today()\n",
    "\n"
   ]
  },
  {
   "cell_type": "code",
   "execution_count": null,
   "metadata": {},
   "outputs": [],
   "source": []
  }
 ],
 "metadata": {
  "kernelspec": {
   "display_name": "Python 3.10.6 ('MLenv')",
   "language": "python",
   "name": "python3"
  },
  "language_info": {
   "codemirror_mode": {
    "name": "ipython",
    "version": 3
   },
   "file_extension": ".py",
   "mimetype": "text/x-python",
   "name": "python",
   "nbconvert_exporter": "python",
   "pygments_lexer": "ipython3",
   "version": "3.10.6"
  },
  "orig_nbformat": 4,
  "vscode": {
   "interpreter": {
    "hash": "34776b5c179a3366956eba0bd084d5567ae536015d6fb5aea4949c85288509e6"
   }
  }
 },
 "nbformat": 4,
 "nbformat_minor": 2
}
