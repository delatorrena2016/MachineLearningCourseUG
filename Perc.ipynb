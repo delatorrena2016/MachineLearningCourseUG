{
 "cells": [
  {
   "cell_type": "code",
   "execution_count": null,
   "metadata": {},
   "outputs": [],
   "source": [
    "import numpy as np\n",
    "import matplotlib.pyplot as plt\n",
    "from sklearn.datasets import make_blobs\n",
    "from matplotlib.colors import ListedColormap\n",
    "\n",
    "gateSample = [10, 10, 10, 10]\n",
    "gates = [[0,0], [0,1], [1,0], [1,1]]\n",
    "\n",
    "X, y = make_blobs(n_samples=gateSample, centers=gates, n_features=2,\n",
    "                   random_state=0)\n",
    "\n",
    "cmap_light = ListedColormap([\"orange\", \"cyan\", \"cornflowerblue\", \"black\"])\n",
    "fig, ax = plt.subplots(nrows = 1, ncols = 1, figsize = (10., 10.), dpi = 120)\n",
    "ax.scatter(X[:,0], X[:,1], s=100., c=y, cmap=cmap_light, alpha=0.5)\n",
    "#ax.scatter(test_data[:,0],test_data[:,1], s=100., c=predLabel,cmap=cmap_light,marker='x', alpha=0.5)\n",
    "ax.set_xlabel('C1')\n",
    "ax.set_ylabel('C2')\n",
    "#ax.set_title('n_samples='+str(no)+', centers='+str(ce)+', cluster_std='+str(std), fontsize=20)\n",
    "\n",
    "#ax.legend()\n",
    "plt.show"
   ]
  },
  {
   "cell_type": "code",
   "execution_count": null,
   "metadata": {},
   "outputs": [],
   "source": []
  }
 ],
 "metadata": {
  "language_info": {
   "name": "python"
  },
  "orig_nbformat": 4
 },
 "nbformat": 4,
 "nbformat_minor": 2
}
