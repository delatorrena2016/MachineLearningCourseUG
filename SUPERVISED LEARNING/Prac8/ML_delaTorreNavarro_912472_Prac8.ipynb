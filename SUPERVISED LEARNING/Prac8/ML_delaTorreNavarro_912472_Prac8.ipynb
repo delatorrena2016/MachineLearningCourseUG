{
 "cells": [
  {
   "cell_type": "code",
   "execution_count": 1,
   "metadata": {},
   "outputs": [],
   "source": [
    "import numpy as np\n",
    "import pandas as pd\n",
    "from matplotlib.colors import ListedColormap\n",
    "from sklearn.datasets import make_blobs\n",
    "from sklearn.model_selection import train_test_split \n",
    "from sklearn.metrics import confusion_matrix\n",
    "from sklearn.metrics import roc_auc_score\n",
    "from sklearn.metrics import mean_squared_error\n",
    "#import matplotlib\n",
    "#matplotlib.use(\"TkAgg\")\n",
    "import matplotlib.pyplot as plt\n",
    "# initiating random number\n",
    "np.random.seed(11)"
   ]
  },
  {
   "cell_type": "code",
   "execution_count": 2,
   "metadata": {},
   "outputs": [],
   "source": [
    "#### Creating the dataset\n",
    "# mean and standard deviation for the x belonging to the first class\n",
    "mu_x1, sigma_x1 = 0, 0.1\n",
    "# Constant to make the second distribution different from the first\n",
    "# x1_mu_diff, x2_mu_diff, x3_mu_diff, x4_mu_diff = 0.5, 0.5, 0.5, 0.5\n",
    "x1_mu_diff, x2_mu_diff, x3_mu_diff, x4_mu_diff = 0, 1, 0, 1\n",
    "# creating the first distribution\n",
    "d1 = pd.DataFrame({'x1': np.random.normal(mu_x1, sigma_x1,\n",
    " 40) - 0,\n",
    " 'x2': np.random.normal(mu_x1, sigma_x1,\n",
    " 40) - 0,'type': 0})\n",
    "d2 = pd.DataFrame({'x1': np.random.normal(mu_x1, sigma_x1,\n",
    " 40) + 1,\n",
    " 'x2': np.random.normal(mu_x1, sigma_x1,\n",
    " 40) - 0,'type': 0})\n",
    "d3 = pd.DataFrame({'x1': np.random.normal(mu_x1, sigma_x1,\n",
    " 40) + 1,\n",
    " 'x2': np.random.normal(mu_x1, sigma_x1,\n",
    " 40) + 1,'type': 1})\n",
    "d4 = pd.DataFrame({'x1': np.random.normal(mu_x1, sigma_x1,\n",
    " 40) - 0,\n",
    " 'x2': np.random.normal(mu_x1, sigma_x1,\n",
    " 40) + 1, 'type': 0})\n",
    "data = pd.concat([d1, d2, d3, d4], ignore_index=True)\n"
   ]
  },
  {
   "cell_type": "code",
   "execution_count": 3,
   "metadata": {},
   "outputs": [],
   "source": [
    "def sig(s): # Activation function\n",
    "      return 1 / (1 + np.exp(-s))\n",
    "def sig_prime(s): # Derivative of the sig\n",
    "      return sig(s) * (1 - sig(s))\n",
    "\n",
    "class FFNN(object):\n",
    "      def __init__(self, input_size=2, hidden_size=2, output_size=1):\n",
    " # Adding 1 as it will be our bias\n",
    "            self.input_size = input_size + 1\n",
    "            self.hidden_size = hidden_size + 1\n",
    "            self.output_size = output_size\n",
    "            self.o_error = 0\n",
    "            self.o_delta = 0\n",
    "            self.z1 = 0\n",
    "            self.z2 = 0\n",
    "            self.z3 = 0\n",
    "            self.z2_error = 0\n",
    " # The whole weight matrix, from the inputs till thehidden layer\n",
    "            self.w1 = np.random.randn(self.input_size, self.hidden_size)\n",
    " # The final set of weights from the hidden layer tillthe output layer\n",
    "            self.w2 = np.random.randn(self.hidden_size, self.output_size)\n",
    "      \n",
    "      def forward(self, X):\n",
    " # Forward propagation through our network\n",
    "            X['bias'] = 1 # Adding 1 to the inputs to include the bias in the weight\n",
    "            self.z1 = np.dot(X, self.w1) # dot product of X (input) and first set of 3x2 weights\n",
    "            self.z2 = sig(self.z1) # activation function\n",
    "            self.z3 = np.dot(self.z2, self.w2) # dot product of hidden layer (z2) and second set of 3x1 weights\n",
    "            o = sig(self.z3) # final activation function\n",
    "            return o\n",
    "       \n",
    "      def predict(self, X):\n",
    "            return forward(self, X)\n",
    "      def backward(self, X, y, output, step):\n",
    " # Backward propagation of the errors\n",
    "            X['bias'] = 1 # Adding 1 to the inputs to include the bias in the weight\n",
    "            self.o_error = y - output # error in output\n",
    "            self.o_delta = self.o_error * sig_prime(output) * step # applying derivative of sig to error\n",
    "            self.z2_error = self.o_delta.dot(\n",
    "            self.w2.T) # z2 error: how much our hidden layer weights contributed to output error\n",
    "            self.z2_delta = self.z2_error * sig_prime(self.z2) * step #applying derivative of sig to z2 error\n",
    "            self.w1 += X.T.dot(self.z2_delta) # adjusting first of weights\n",
    "            self.w2 += self.z2.T.dot(self.o_delta) # adjusting second set of weights\n",
    "\n",
    "      def fit(self, X, y, epochs=10, step=0.05):\n",
    "            for epoch in range(epochs):\n",
    "                  X['bias'] = 1 # Adding 1 to the inputs to include the bias in the weight\n",
    "                  output = self.forward(X)\n",
    "                  self.backward(X, y, output, step)\n",
    "      def forward(self, X):\n",
    " # Forward propagation through our network\n",
    "            X['bias'] = 1 # Adding 1 to the inputs to include the bias in the weight\n",
    "            self.z1 = np.dot(X, self.w1) # dot product of X (input) and first set of 3x2 weights\n",
    "            self.z2 = sig(self.z1) # activation function\n",
    "            self.z3 = np.dot(self.z2, self.w2) # dot product of hidden layer (z2) and second set of 3x1 weights\n",
    "            o = sig(self.z3) # final activation function\n",
    "            return o\n",
    "       \n",
    "      def predict(self, X):\n",
    "            return forward(self, X)\n",
    "      def backward(self, X, y, output, step):\n",
    " # Backward propagation of the errors\n",
    "            X['bias'] = 1 # Adding 1 to the inputs to include the bias in the weight\n",
    "            self.o_error = y - output # error in output\n",
    "            self.o_delta = self.o_error * sig_prime(output) * step # applying derivative of sig to error\n",
    "            self.z2_error = self.o_delta.dot(\n",
    "            self.w2.T) # z2 error: how much our hidden layer weights contributed to output error\n",
    "            self.z2_delta = self.z2_error * sig_prime(self.z2) * step #applying derivative of sig to z2 error\n",
    "            self.w1 += X.T.dot(self.z2_delta) # adjusting first of weights\n",
    "            self.w2 += self.z2.T.dot(self.o_delta) # adjusting second set of weights\n",
    "\n",
    "      def fit(self, X, y, epochs, step):\n",
    "            for epoch in range(epochs):\n",
    "                  X['bias'] = 1 # Adding 1 to the inputs to include the bias in the weight\n",
    "                  output = self.forward(X)\n",
    "                  self.backward(X, y, output, step)\n"
   ]
  },
  {
   "cell_type": "code",
   "execution_count": 6,
   "metadata": {},
   "outputs": [
    {
     "name": "stdout",
     "output_type": "stream",
     "text": [
      "MSE:  0.0036273830184168363\n",
      "AUC:  1.0\n",
      "        Predicted 0  Predicted 1\n",
      "True 0           29            0\n",
      "True 1            0            9\n"
     ]
    }
   ],
   "source": [
    "# Splitting the dataset in training and test set\n",
    "msk = np.random.rand(len(data)) < 0.8\n",
    "# Roughly 80% of data will go in the training set\n",
    "train_x, train_y = data[['x1', 'x2']][msk], data[['type']][msk].values\n",
    "# Everything else will go into the validation set\n",
    "test_x, test_y = data[['x1', 'x2']][~msk], data[['type']][~msk].values \n",
    "my_network = FFNN()\n",
    "my_network.fit(train_x, train_y, epochs=1000, step=0.05)\n",
    "pred_y = test_x.apply(my_network.forward, axis=1)\n",
    "# Reshaping the data\n",
    "test_y_ = [i[0] for i in test_y]\n",
    "pred_y_ = [i[0] for i in pred_y]\n",
    "print('MSE: ', mean_squared_error(test_y_, pred_y_))\n",
    "print('AUC: ', roc_auc_score(test_y_, pred_y_))\n",
    "threshold = 0.5\n",
    "pred_y_binary = [1 if i > threshold else 0 for i in pred_y_]\n",
    "cm = confusion_matrix(test_y_, pred_y_binary, labels=[0, 1])\n",
    "print(pd.DataFrame(cm,\n",
    " index=['True 0', 'True 1'],\n",
    " columns=['Predicted 0', 'Predicted 1']))\n"
   ]
  },
  {
   "cell_type": "code",
   "execution_count": 7,
   "metadata": {},
   "outputs": [
    {
     "data": {
      "image/png": "[encoded data removed]",
      "text/plain": [
       "<Figure size 500x500 with 1 Axes>"
      ]
     },
     "metadata": {},
     "output_type": "display_data"
    }
   ],
   "source": [
    "cmap_light = ListedColormap([\"orange\", \"cornflowerblue\"])\n",
    "classes = [\"False\", \"True\"]\n",
    "fig, ax = plt.subplots(nrows = 1, ncols = 1, figsize = (10., 10.), dpi = 50)\n",
    "ax.scatter(train_x.iloc[:,0], train_x.iloc[:,1], s=100., c=train_y, cmap=cmap_light, alpha=0.5, label='train')\n",
    "ax.scatter(test_x.iloc[:,0], test_x.iloc[:,1], s=100., c=pred_y, cmap=cmap_light, marker='x', alpha=0.5, label='test')\n",
    "#ax.plot(np.array(ax.get_xlim()) , PredictBoundary(w0, w1,w2, np.array(ax.get_xlim())), '--', c='red', label='Hyperplane')\n",
    "ax.set_xlabel('C1', fontsize=18)\n",
    "ax.set_ylabel('C2', fontsize=18)\n",
    "ax.set_title('AND by FFNN', fontsize=20)\n",
    "plt.xticks(np.asarray([0,1]))\n",
    "plt.yticks(np.asarray([0,1])) \n",
    "ax.legend(fontsize=15)\n",
    "#plt.figtext(0.5, 0.01, r\"$w_0$ = {:03.2f}, $w_1$ = {:03.2f}, $w_2$ = {:03.2f}\".format(w0,w1,w2), ha=\"center\", fontsize=18)\n",
    "plt.show()"
   ]
  },
  {
   "cell_type": "code",
   "execution_count": null,
   "metadata": {},
   "outputs": [],
   "source": []
  }
 ],
 "metadata": {
  "kernelspec": {
   "display_name": "Python 3.10.6 ('MLenv')",
   "language": "python",
   "name": "python3"
  },
  "language_info": {
   "codemirror_mode": {
    "name": "ipython",
    "version": 3
   },
   "file_extension": ".py",
   "mimetype": "text/x-python",
   "name": "python",
   "nbconvert_exporter": "python",
   "pygments_lexer": "ipython3",
   "version": "3.10.6"
  },
  "orig_nbformat": 4,
  "vscode": {
   "interpreter": {
    "hash": "34776b5c179a3366956eba0bd084d5567ae536015d6fb5aea4949c85288509e6"
   }
  }
 },
 "nbformat": 4,
 "nbformat_minor": 2
}
